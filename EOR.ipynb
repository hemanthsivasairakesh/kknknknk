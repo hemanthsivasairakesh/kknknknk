{
  "cells": [
    {
      "cell_type": "markdown",
      "id": "9e3aa8d5",
      "metadata": {
        "id": "9e3aa8d5"
      },
      "source": [
        "# EOR DATA ANALYSER"
      ]
    },
    {
      "cell_type": "markdown",
      "id": "7c8943df",
      "metadata": {
        "id": "7c8943df"
      },
      "source": [
        "Parameters to be entered: Nca0, Soi, uw, sigma1, viscw, visco swir\n",
        "\n",
        "\n",
        "Nca0= Capillary number at start of EOR  \n",
        "\n",
        "Soi= Residual oil saturation at the start of EOR\n",
        "\n",
        "uw=  Superficial  velocity of water (m/s)\n",
        "\n",
        "sigma1= IFT after EOR (N/m)\n",
        "\n",
        "viscw= Viscosity of water (displacing fluid) (Ns/m^2)\n",
        "\n",
        "visco= Viscosity of oil (displaced fluid) (Ns/m^2)\n",
        "\n",
        "swir= Irreducible water saturation\n"
      ]
    },
    {
      "cell_type": "code",
      "execution_count": null,
      "id": "0ab56919",
      "metadata": {
        "scrolled": true,
        "id": "0ab56919",
        "outputId": "a5490d27-8a0b-4572-ee16-f9a0f22a6aa9",
        "colab": {
          "base_uri": "https://localhost:8080/"
        }
      },
      "outputs": [
        {
          "output_type": "stream",
          "name": "stdout",
          "text": [
            "Enter the number of reservoirs' data available:\n",
            "4\n",
            "Enter the visco values in order:\n",
            "\n",
            "0.005 0.005 0.005 0.005 0.005\n",
            "Enter the Nca0 values in order:\n",
            "\n",
            "0.000001 0.000001 0.000001 0.000001\n",
            "Enter the Soi values in order:\n",
            "\n",
            "0.5 0.5 0.5 0.5\n",
            "Enter the uw values in order:\n",
            "\n",
            "0.000006 0.00006 0.00006 0.000006\n",
            "Enter the sigma1 values in order:\n",
            "\n",
            "0.0005 0.0006 0.0005 0.0006\n",
            "Enter the viscw values in order:\n",
            "\n",
            "0.001 0.001 0.001 0.001\n",
            "Enter the swir values in order:\n",
            "\n",
            "0.2 0.2 0.2 0.2\n",
            "[[1e-06, 1e-06, 1e-06, 1e-06], [0.5, 0.5, 0.5, 0.5], [6e-06, 6e-05, 6e-05, 6e-06], [0.0005, 0.0006, 0.0005, 0.0006], [0.001, 0.001, 0.001, 0.001], [0.2, 0.2, 0.2, 0.2]]\n"
          ]
        }
      ],
      "source": [
        "import matplotlib.pyplot as plt \n",
        "import numpy as np\n",
        "import pandas as pd\n",
        "from math import *\n",
        "\n",
        "\n",
        "\n",
        "print(\"Enter the number of reservoirs' data available:\")\n",
        "n=int(input())\n",
        "print(\"Enter the visco values in order:\\n\")\n",
        "visco=[float(i) for i in input().split()]\n",
        "\n",
        "\n",
        "print(\"Enter the Nca0 values in order:\\n\")\n",
        "Nca0=[float(i) for i in input().split()]\n",
        "print(\"Enter the Soi values in order:\\n\")\n",
        "Soi=[float(i) for i in input().split()]\n",
        "print(\"Enter the uw values in order:\\n\")\n",
        "uw=[float(i) for i in input().split()]\n",
        "print(\"Enter the sigma1 values in order:\\n\")\n",
        "sigma1=[float(i) for i in input().split()]\n",
        "print(\"Enter the viscw values in order:\\n\")\n",
        "viscw=[float(i) for i in input().split()]\n",
        "print(\"Enter the swir values in order:\\n\")\n",
        "swir=[float(i) for i in input().split()]\n",
        "\n",
        "\n",
        "data=[Nca0, Soi, uw, sigma1, viscw, swir]\n",
        "\n",
        "print(data)"
      ]
    },
    {
      "cell_type": "markdown",
      "id": "f096c83d",
      "metadata": {
        "id": "f096c83d"
      },
      "source": [
        "# Defining functions for calculating EOR screening parameters\n",
        "\n",
        "Sor=  Residual oil saturation after EOR application\n",
        "\n",
        "Nca0= #Capillary number at start of EOR\n",
        "\n",
        "Nca1=  #Capillary number after EOR end\n",
        "\n",
        "Soi=   #Residual oil saturation at the start of EOR\n",
        "\n",
        "uw=    #Superficial  velocity of water\n",
        "\n",
        "sigma1=   #IFT after EOR \n",
        "\n",
        "Swir=    #Irreducible water saturation\n",
        "\n",
        "Kr0 =    (1-Sw1)^2 * (1-(Sw1)^((2+t)/t))\n",
        "\n",
        "Krw =    (Sw1)^((2+3t)/t)\n",
        "\n",
        "Sor= [-tanh(v1*Nca1-v3)+1+v2]*Soi/[-tanh((v1*Nca0-v3)+1+v2)]\n",
        "\n",
        "fw = 1/(1+((Kro*Muw)/(Muo*Krw)))\n",
        "\n",
        "Sw1 = (Sw-Swir)/(1-Sor-Swir)\n",
        "\n",
        "\n",
        "t=3.7\n",
        "v1=6500, v2= 0.1, v3=0"
      ]
    },
    {
      "cell_type": "code",
      "execution_count": null,
      "id": "32e4328a",
      "metadata": {
        "id": "32e4328a",
        "outputId": "3f56243c-0ceb-47e9-cee9-bfbabe1599fa",
        "colab": {
          "base_uri": "https://localhost:8080/"
        }
      },
      "outputs": [
        {
          "output_type": "stream",
          "name": "stdout",
          "text": [
            "[[1e-06, 1e-06, 1e-06, 1e-06], [0.5, 0.5, 0.5, 0.5], [6e-06, 6e-05, 6e-05, 6e-06], [0.0005, 0.0006, 0.0005, 0.0006], [0.001, 0.001, 0.001, 0.001], [0.2, 0.2, 0.2, 0.2]]\n"
          ]
        }
      ],
      "source": [
        "print(data)\n",
        "def Nca1cal(a,b,c): #a=uw, b=viscw, c=sigma1 \n",
        "    Nca1=(a*b)/c\n",
        "    return Nca1\n",
        "    \n",
        "def Sorcal(a,b,c): #a=Nca1, b=Nca0, c=Soi\n",
        "    Sor= c*(1.1-tanh(6500*a))/(1.1-tanh((6500*b))) \n",
        "    return Sor\n",
        "\n",
        "def Edcal(a,b):  #a=Soi, b=Sor\n",
        "    Ed=(a-b)/a\n",
        "    return Ed\n",
        "\n",
        "def Sw1cal(a,b,c):\n",
        "    Sw1=(a-b)/(1-c-b)  #a=Sw, b=Swir, C=Sor\n",
        "    return Sw1\n",
        "    \n",
        "def Krwcal(a):   #a=Sw1\n",
        "    krw=a**(3.540541)\n",
        "    return krw    \n",
        "\n",
        "def Krocal(a): #a=Sw1\n",
        "    Kro=((1-a)**2)*(1-(a)**1.540541)\n",
        "    return Kro\n",
        "    \n",
        "def fwcal(a,b,c,d):    #a=kr0, b=viscw, c=visco, d=krw\n",
        "    fw= 1/(1+(a*b/(c*d)))\n",
        "    return fw"
      ]
    },
    {
      "cell_type": "code",
      "execution_count": null,
      "id": "4edf57c8",
      "metadata": {
        "scrolled": false,
        "id": "4edf57c8",
        "outputId": "e940f9c7-1acd-44ce-9774-940760ddd4b9",
        "colab": {
          "base_uri": "https://localhost:8080/"
        }
      },
      "outputs": [
        {
          "output_type": "stream",
          "name": "stdout",
          "text": [
            "6\n",
            "[1.2e-05, 0.00010000000000000002, 0.00012000000000000002, 1e-05]\n",
            "[0.4673789274902714, 0.24157749871367923, 0.20452366556642362, 0.4732927757543704]\n",
            "[0.06524214501945724, 0.5168450025726415, 0.5909526688671527, 0.0534144484912592]\n"
          ]
        }
      ],
      "source": [
        "#data[0]=Nca0; [1]=Soi; [2]= uw; [3]= sigma1; [4]=viscw; [5]=swir\n",
        "\n",
        "Nca1=[]\n",
        "\n",
        "print(len(data))\n",
        "for i in range(len(Nca0)):\n",
        "        Nca1.append(Nca1cal(data[2][i],data[4][i],data[3][i]))   #a=uw, b=viscw, c=sigma1\n",
        "print(Nca1) \n",
        "\n",
        "Sor=[]\n",
        "for i in range(len(Nca0)):\n",
        "        Sor.append(Sorcal(Nca1[i],data[0][i],data[1][i]))       #a=Nca1 #b=Nca0 #c=Soi\n",
        "print(Sor)\n",
        "\n",
        "Ed=[]\n",
        "for i in range(len(Nca0)):\n",
        "        Ed.append(Edcal(data[1][i],Sor[i]))\n",
        "print(Ed)"
      ]
    },
    {
      "cell_type": "code",
      "execution_count": null,
      "id": "d4db9c04",
      "metadata": {
        "id": "d4db9c04",
        "outputId": "1800d62a-69fe-435d-c8f5-f333146d46a5",
        "colab": {
          "base_uri": "https://localhost:8080/"
        }
      },
      "outputs": [
        {
          "output_type": "stream",
          "name": "stdout",
          "text": [
            "3\n",
            "Above numbered reservoir acheived the maximum Ed of 0.590953\n",
            "\n",
            "4\n",
            "Above numbered reservoir acheived the minimum Ed of 0.053414\n",
            "\n",
            "3\n",
            "Above numbered reservoir shows the minimum Sor of 0.204524 indicating max recovery\n",
            "\n",
            "4\n",
            "Above numbered reservoir shows the maximum Sor of 0.473293 indicating min recovery\n",
            "\n",
            "3\n",
            "Above numbered reservoir shows the Maximum improvement in capillary no of 0.000119\n",
            "4\n",
            "Above numbered reservoir shows the Minimum improvement in capillary no of 0.000009\n"
          ]
        }
      ],
      "source": [
        "\n",
        "MaxEd=Ed.index(max(Ed))\n",
        "print(MaxEd+1)\n",
        "print(\"Above numbered reservoir acheived the maximum Ed of %f\\n\"%(max(Ed)))\n",
        "\n",
        "MinEd=Ed.index(min(Ed))\n",
        "print(MinEd+1)\n",
        "print(\"Above numbered reservoir acheived the minimum Ed of %f\\n\"%(min(Ed)))\n",
        "\n",
        "MinSor=Sor.index(min(Sor))\n",
        "print(MinSor+1)\n",
        "print(\"Above numbered reservoir shows the minimum Sor of %f indicating max recovery\\n\"%(min(Sor)))\n",
        "\n",
        "MaxSor=Sor.index(max(Sor))\n",
        "print(MaxSor+1)\n",
        "print(\"Above numbered reservoir shows the maximum Sor of %f indicating min recovery\\n\"%(max(Sor)))\n",
        "\n",
        "\n",
        "\n",
        "ChangeNca=[]\n",
        "for i in range(len(Nca0)):\n",
        "    ChangeNca.append(Nca1[i]-Nca0[i])\n",
        " \n",
        "\n",
        "MaxNcaChange=ChangeNca.index(max(ChangeNca))\n",
        "print(MaxNcaChange+1)\n",
        "print(\"Above numbered reservoir shows the Maximum improvement in capillary no of %f\"%(max(ChangeNca)))\n",
        "\n",
        "\n",
        "MinNcaChange=ChangeNca.index(min(ChangeNca))\n",
        "print(MinNcaChange+1)\n",
        "print(\"Above numbered reservoir shows the Minimum improvement in capillary no of %f\"%(min(ChangeNca)))"
      ]
    },
    {
      "cell_type": "code",
      "execution_count": null,
      "id": "e999ed33",
      "metadata": {
        "id": "e999ed33"
      },
      "outputs": [],
      "source": [
        "#Plotting Fractional flow curves for Reservoir with Max oil recovery"
      ]
    },
    {
      "cell_type": "code",
      "source": [
        "Sw=[0,0.05,0.1,0.15,0.2,0.25,0.3,0.35,0.4,0.45,0.5,0.55,0.6,0.65,0.7,0.75,0.8,0.85,0.9,0.95,1]\n",
        "Sw1=[]\n",
        "for i in range(len(Sw)):\n",
        "        Sw1.append(Sw1cal(Sw[i],data[5][MinSor],Sor[MinSor]))   \n",
        "print(Sw1)\n",
        "Sw11=[x for x in Sw1 if x >0 and x<1]\n",
        "print(Sw11)\n",
        "Sw01=[]\n",
        "for i in range(len(Sw)):\n",
        "  if Sw1[i]>0 and Sw1[i]<1:\n",
        "    Sw01.append(Sw[i])\n",
        "print(Sw01)"
      ],
      "metadata": {
        "colab": {
          "base_uri": "https://localhost:8080/"
        },
        "id": "LWj-3tssJja5",
        "outputId": "c75987b8-7c1a-42fd-a883-9f508423d433"
      },
      "id": "LWj-3tssJja5",
      "execution_count": null,
      "outputs": [
        {
          "output_type": "stream",
          "name": "stdout",
          "text": [
            "[-0.335865572542429, -0.25189917940682177, -0.1679327862712145, -0.08396639313560726, 0.0, 0.08396639313560722, 0.16793278627121444, 0.25189917940682166, 0.335865572542429, 0.4198319656780362, 0.5037983588136434, 0.5877647519492507, 0.6717311450848579, 0.7556975382204651, 0.8396639313560723, 0.9236303244916797, 1.007596717627287, 1.091563110762894, 1.1755295038985012, 1.2594958970341086, 1.343462290169716]\n",
            "[0.08396639313560722, 0.16793278627121444, 0.25189917940682166, 0.335865572542429, 0.4198319656780362, 0.5037983588136434, 0.5877647519492507, 0.6717311450848579, 0.7556975382204651, 0.8396639313560723, 0.9236303244916797]\n",
            "[0.25, 0.3, 0.35, 0.4, 0.45, 0.5, 0.55, 0.6, 0.65, 0.7, 0.75]\n"
          ]
        }
      ]
    },
    {
      "cell_type": "code",
      "source": [
        "Kro=[]\n",
        "for i in range(len(Sw11)):\n",
        "        Kro.append(Krocal(Sw11[i]))   #a=Sw1\n",
        "print(Kro)"
      ],
      "metadata": {
        "id": "4VKISMFtQ2Sg",
        "colab": {
          "base_uri": "https://localhost:8080/"
        },
        "outputId": "e8187e9c-1ffa-466d-bf28-30effca4d02b"
      },
      "id": "4VKISMFtQ2Sg",
      "execution_count": null,
      "outputs": [
        {
          "output_type": "stream",
          "name": "stdout",
          "text": [
            "[0.8206519774726604, 0.6480151821564767, 0.4927456858622801, 0.35893533242958175, 0.2481974545474679, 0.16058512975752454, 0.09499356062427161, 0.049382749208227134, 0.020918155841125136, 0.006067547006304926, 0.0006718434400675377]\n"
          ]
        }
      ]
    },
    {
      "cell_type": "code",
      "source": [
        "Krw=[]\n",
        "for i in range(len(Sw11)):\n",
        "        Krw.append(Krwcal(Sw11[i]))   #a=uw, b=viscw, c=sigma1\n",
        "print(Krw) "
      ],
      "metadata": {
        "id": "ptiQwy6bPLIN",
        "colab": {
          "base_uri": "https://localhost:8080/"
        },
        "outputId": "0106f813-f828-4fc0-d84f-9674e1bfd606"
      },
      "id": "ptiQwy6bPLIN",
      "execution_count": null,
      "outputs": [
        {
          "output_type": "stream",
          "name": "stdout",
          "text": [
            "[0.0001551498657172267, 0.0018053459910643923, 0.007586103582041558, 0.02100726373423081, 0.046289592987389404, 0.08827298448713584, 0.15235463242814018, 0.24444352040206124, 0.3709250233084409, 0.5386323136115159, 0.7548226141191394]\n"
          ]
        }
      ]
    },
    {
      "cell_type": "code",
      "source": [
        "fw=[]\n",
        "for i in range(len(Sw11)):\n",
        "        fw.append(fwcal(Kro[i],viscw[MinSor],visco[MinSor],Krw[i]))   \n",
        "print(fw) "
      ],
      "metadata": {
        "colab": {
          "base_uri": "https://localhost:8080/"
        },
        "id": "xAONTO3gCNbj",
        "outputId": "27d9f39a-c3b3-473d-d621-3ccc9b2c7320"
      },
      "id": "xAONTO3gCNbj",
      "execution_count": null,
      "outputs": [
        {
          "output_type": "stream",
          "name": "stdout",
          "text": [
            "[0.000944391458037348, 0.013738438581960694, 0.07147582205602232, 0.22638520785044466, 0.48253971691366787, 0.7332251585120179, 0.8891255249530388, 0.9611648823776234, 0.9888468817813285, 0.9977521185688005, 0.9998220180870255]\n"
          ]
        }
      ]
    },
    {
      "cell_type": "code",
      "source": [
        "import numpy as np\n",
        "from scipy.optimize import*\n",
        "import math\n",
        "import random\n",
        "import matplotlib\n",
        "import matplotlib.pyplot as plt\n",
        "from tkinter import*\n",
        "from tkinter import ttk\n",
        "import pandas as pd"
      ],
      "metadata": {
        "id": "Oz9aeCdNINsM"
      },
      "id": "Oz9aeCdNINsM",
      "execution_count": null,
      "outputs": []
    },
    {
      "cell_type": "code",
      "source": [
        "SW = np.array(Sw01)\n",
        "SW_table = pd.DataFrame(SW, columns = ['SW'])\n",
        "KRW = np.array(Krw)\n",
        "KRO = np.array(Kro)\n",
        "VISW = viscw[MinSor] \n",
        "VISO = visco[MinSor] \n",
        "# Initial water saturation\n",
        "SWI = Sw01[0]\n",
        "# Calculating the coefficient b\n",
        "b = (np.log((KRO/KRW)[2])-np.log((KRO/KRW)[3]))/(SW[3]-SW[2])\n",
        "# Calculating the coefficient a\n",
        "a = (KRO/KRW)[2]*math.exp(b*SW[2])"
      ],
      "metadata": {
        "id": "hPbu084jIQYZ"
      },
      "id": "hPbu084jIQYZ",
      "execution_count": null,
      "outputs": []
    },
    {
      "cell_type": "code",
      "source": [
        "# Calculating the fractional flow\n",
        "def fw(SW):\n",
        "    fw = 1/(1+a*(VISW/VISO)*np.exp(-b*SW))\n",
        "    return(fw)\n",
        "''' To calculate a suitable slope for the tangent to the fractional flow curve\n",
        "Drawn from the initial water saturation'''\n",
        "''' STEP1: Generate a list of uniformly distributed random numbers from a water saturation\n",
        "# greater than the initial water saturation to 1'''\n",
        "xList = []\n",
        "for i in range(0, 10000):\n",
        "    x = random.uniform(SWI+0.1, 1)\n",
        "    xList.append(x) \n",
        "xs = np.array(xList)\n",
        "'''STEP2: Calculate different slopes of tangents or lines intersecting the fractional\n",
        "flow curve using the array generated in step 1 as the water saturation.'''\n",
        "m = 1/((xs-SWI)*(1+(VISW/VISO)*a*np.exp(-b*xs)))\n",
        "'''STEP3: Calculate the maximum slope from different slopes generated in step 2.\n",
        " The value of this slope will be the slope of the tangent to the fractional flow\n",
        " curve.'''\n",
        "tangent_slope=max(m)"
      ],
      "metadata": {
        "id": "IZmXlDN_JMt4"
      },
      "id": "IZmXlDN_JMt4",
      "execution_count": null,
      "outputs": []
    },
    {
      "cell_type": "code",
      "source": [
        "# Calculate the breakthrough saturation.\n",
        "Saturation_at_Breakthrough = SWI + 1/tangent_slope\n",
        "# Calculating the saturation at the flood front\n",
        "def funct(SWF):\n",
        "    swf = SWF[0]\n",
        "    F = np.empty((1))\n",
        "    F[0] = ((tangent_slope*(swf-SWI)*(1+(VISW/VISO)*a*math.exp(-b*swf)))-1)\n",
        "    return F\n",
        "SWF_Guess = np.array([SWI+0.1])\n",
        "SWF = fsolve(funct, SWF_Guess)[0]\n",
        "# Fractional flow at the flood front\n",
        "Fwf = fw(SWF)\n",
        "# Fractional flow\n",
        "Fw = fw(SW)"
      ],
      "metadata": {
        "id": "4YNp6o2xJzTA"
      },
      "id": "4YNp6o2xJzTA",
      "execution_count": null,
      "outputs": []
    },
    {
      "cell_type": "code",
      "source": [
        "tangent = (SW-SWI)*tangent_slope"
      ],
      "metadata": {
        "id": "LmwFcWcmJ99J"
      },
      "id": "LmwFcWcmJ99J",
      "execution_count": null,
      "outputs": []
    },
    {
      "cell_type": "code",
      "source": [
        "# Making the plots\n",
        "fig, ax = plt.subplots(constrained_layout=True)\n",
        "fig.set_figheight(4)\n",
        "fig.set_figwidth(7)\n",
        "fractional_flow_curve = ax.plot(SW, fw(SW), 'b', label = 'Fractional Flow (Fw)')\n",
        "tangent_curve = ax.plot(SW, tangent, 'k--')\n",
        "ax.set_ylabel(\"Fractional Flow (fw)\",fontsize=14)\n",
        "ax.set_xlabel(\"Water Saturation (Sw)\",fontsize=14)\n",
        "ax.set_ylim([0,1])\n",
        "ax.set_xlim([0,1])\n",
        "# twin object for two different y-axis on the same plot\n",
        "ax2=ax.twinx()\n",
        "ax.grid(True)\n",
        "ax2.legend()\n",
        "ax.legend(loc='upper left')\n",
        "ax.annotate(\"  (Swf, Fwf)\", (SWF, Fwf))\n",
        "ax.annotate(\" SwBT\", (Saturation_at_Breakthrough, 1))\n",
        "plt.show()"
      ],
      "metadata": {
        "colab": {
          "base_uri": "https://localhost:8080/",
          "height": 330
        },
        "id": "q3OWkMBdKEtd",
        "outputId": "b2d082b5-3b34-4966-9f05-a7084567ce50"
      },
      "id": "q3OWkMBdKEtd",
      "execution_count": null,
      "outputs": [
        {
          "output_type": "stream",
          "name": "stderr",
          "text": [
            "WARNING:matplotlib.legend:No handles with labels found to put in legend.\n"
          ]
        },
        {
          "output_type": "display_data",
          "data": {
            "text/plain": [
              "<Figure size 504x288 with 2 Axes>"
            ],
            "image/png": "[encoded data removed]"
          },
          "metadata": {
            "needs_background": "light"
          }
        }
      ]
    }
  ],
  "metadata": {
    "kernelspec": {
      "display_name": "Python 3 (ipykernel)",
      "language": "python",
      "name": "python3"
    },
    "language_info": {
      "codemirror_mode": {
        "name": "ipython",
        "version": 3
      },
      "file_extension": ".py",
      "mimetype": "text/x-python",
      "name": "python",
      "nbconvert_exporter": "python",
      "pygments_lexer": "ipython3",
      "version": "3.9.12"
    },
    "colab": {
      "provenance": []
    }
  },
  "nbformat": 4,
  "nbformat_minor": 5
}